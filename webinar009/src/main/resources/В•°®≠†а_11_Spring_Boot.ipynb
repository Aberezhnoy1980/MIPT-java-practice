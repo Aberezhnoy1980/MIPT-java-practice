{
  "nbformat": 4,
  "nbformat_minor": 0,
  "metadata": {
    "colab": {
      "provenance": []
    },
    "kernelspec": {
      "name": "python3",
      "display_name": "Python 3"
    },
    "language_info": {
      "name": "python"
    }
  },
  "cells": [
    {
      "cell_type": "markdown",
      "source": [
        "# Вступление\n"
      ],
      "metadata": {
        "id": "85hKN72lIQIr"
      }
    },
    {
      "cell_type": "markdown",
      "source": [
        "## Проверка связи\n",
        "\n",
        "<table>\n",
        "  \n",
        "  <tr>\n",
        "    <td>\n",
        "\n",
        "### Если у вас нет звука:\n",
        "\n",
        "* убедитесь, что на вашем устройстве и на колонках включён звук\n",
        "\n",
        "* обновите страницу вебинара или закройте <p>страницу и заново присоединитесь к вебинару\n",
        "\n",
        "* откройте вебинар в другом браузере\n",
        "\n",
        "* перезагрузите компьютер/ноутбук и заново попытайтесь зайти\n",
        "    </td>\n",
        "    <td width='60px'>\n",
        "    </td>\n",
        "    <td>\n",
        "\n",
        "### Поставьте в чат\n",
        "\n",
        "\\+ если меня видно и слышно\n",
        "\n",
        "\\- если нет\n",
        "    </td>\n",
        "  </tr>\n",
        "</table>\n"
      ],
      "metadata": {
        "id": "hzq0m80TUjeU"
      }
    },
    {
      "cell_type": "markdown",
      "source": [
        "## О спикере\n",
        "\n",
        "**Иван Ткаченко**\n",
        "- Тимлид в ООО «ТЕХНОКОМ», Тюмень\n",
        "- Опыт коммерческой разработки на Java — 7 лет\n",
        "- Преподаватель ТюмГУ, доцент кафедры программной и системной инженерии"
      ],
      "metadata": {
        "id": "fEGv5tLgv_Ki"
      }
    },
    {
      "cell_type": "markdown",
      "source": [
        "## Правила участия\n",
        "\n",
        "1. Продолжительность вебинара — 80 минут. Через 40 минут перерыв — 5 минут\n",
        "2. Запустите IDE для выполнения практических заданий вебинара. Во время демонстрации работы повторяйте за спикером: это помогает лучше понять материал\n",
        "3. Вопросы и уточнения:\n",
        "  - приготовьте блокнот и ручку или создайте копию этого блокнота, чтобы фиксировать вопросы и важную информацию во время занятия\n",
        "  - вы можете писать вопросы в чате во время вебинара или озвучивать в блоке «Ваши вопросы»\n",
        "4. Запись вебинара будет доступна в личном кабинете\n",
        "5. Обсуждение можно продолжить в чате"
      ],
      "metadata": {
        "id": "f_DgPhvrwC1F"
      }
    },
    {
      "cell_type": "markdown",
      "source": [
        "## Вспомним прошлое занятие"
      ],
      "metadata": {
        "id": "l-nEO1vcwGSr"
      }
    },
    {
      "cell_type": "markdown",
      "source": [
        "1. Узнали, какие коллекции бывают в Java\n",
        "\n",
        "1. Поняли, чем они отличаются и какие реализации имеют\n",
        "\n",
        "1. Познакомились с базовыми операциями коллекций\n",
        "\n",
        "1. Научились создавать экзмепляры коллекций и инициализировать их"
      ],
      "metadata": {
        "id": "eshWoSKUzeGZ"
      }
    },
    {
      "cell_type": "markdown",
      "source": [
        "---\n",
        "\n",
        "## Цели занятия\n",
        "\n",
        "1. Научиться создавать приложение с использованием Spring Boot\n",
        "\n",
        "1. Научиться создавать конечные точки и их обработчики\n",
        "\n",
        "1. Обсудить слои в приложениях: для чего они используются и какие бывают\n",
        "\n",
        "1. Узнать, что такое бины и как их задавать\n",
        "\n",
        "\n"
      ],
      "metadata": {
        "id": "WdHXtIQLIU3a"
      }
    },
    {
      "cell_type": "markdown",
      "source": [
        "## План занятия\n",
        "\n",
        "1. Создание проекта\n",
        "\n",
        "1. Конечные точки\n",
        "\n",
        "1. Слой бизнес-логики\n",
        "\n",
        "1. Бины\n",
        "\n",
        "1. Конфигурирование параметров приложения"
      ],
      "metadata": {
        "id": "MJ8BH04DWUZS"
      }
    },
    {
      "cell_type": "markdown",
      "source": [
        "## Ваши вопросы"
      ],
      "metadata": {
        "id": "j6U65pMLzhmL"
      }
    },
    {
      "cell_type": "markdown",
      "source": [
        "# Сервисы на Java. Spring Boot"
      ],
      "metadata": {
        "id": "PorTDPeDWHLE"
      }
    },
    {
      "cell_type": "markdown",
      "source": [
        "## 1. Создание проекта\n"
      ],
      "metadata": {
        "id": "eYsqjjR8i9gl"
      }
    },
    {
      "cell_type": "markdown",
      "source": [
        "\n",
        "https://start.spring.io/ поможет сгенерировать заготовку для проекта\n",
        "\n",
        "Позволяет настроить:\n",
        "\n",
        "* язык (Java/Kotlin/Groovy)\n",
        "* версию языка\n",
        "* систему сборки (Maven/Gradle)\n",
        "* версию Spring Boot\n",
        "* способ архивации скомпилирвоанного проекта (jar/war)\n",
        "* описание проекта (Group, Artifact, Name и т. д.)\n",
        "* зависимости\n",
        "\n",
        "<table>\n",
        "  <tr>\n",
        "        <td>\n",
        "\n",
        "### Демонстрация работы \"*Создание проекта через start.spring.io*\"\n",
        "\n",
        "<br>\n",
        "\n",
        "Выполним действия:\n",
        "* заполним форму:\n",
        "  * в качестве языка — Java\n",
        "  * в качестве системы сборки — Maven\n",
        "* добавим зависимость Lombok и Spring Web\n",
        "* сгенерируем архив с заготовкой, скачаем и распакуем архив\n",
        "* откроем заготовку в IDE\n",
        "\n",
        "<br>\n",
        "\n",
        "Добавьте плагин Lombok в IDEA, если его ещё нет\n",
        "\n",
        "<br>\n",
        "\n",
        "* откроем файл pom.xml и изучим его\n",
        "\n",
        "<br>\n",
        "\n",
        "Обратите внимание на:\n",
        "\n",
        "```java\n",
        "import org.springframework.boot.SpringApplication;\n",
        "import org.springframework.boot.autoconfigure.SpringBootApplication;\n",
        "\n",
        "@SpringBootApplication\n",
        "public class DemoApplication {\n",
        "\tpublic static void main(String[] args) {\n",
        "\t\tSpringApplication.run(DemoApplication.class, args);\n",
        "\t}\n",
        "}\n",
        "```\n",
        "\n",
        "Это всё, что должно быть в методе main.\n",
        "    </td>\n",
        "  </tr>\n",
        "</table>\n",
        "\n",
        "Запустим приложение. Сейчас оно не делает ничего, кроме прослушивания порта 8080"
      ],
      "metadata": {
        "id": "Y_D6EFQ3V-qU"
      }
    },
    {
      "cell_type": "markdown",
      "source": [
        "## Ваши вопросы"
      ],
      "metadata": {
        "id": "zg8zzCrq247b"
      }
    },
    {
      "cell_type": "markdown",
      "source": [
        "## 2. Конечные точки\n"
      ],
      "metadata": {
        "id": "KUr1DdWQvfiP"
      }
    },
    {
      "cell_type": "markdown",
      "source": [
        "\n",
        "Для каждой операции создают конечные точки, которые представляют собой HTTP-методы:\n",
        "\n",
        "* `POST` — создание объектов\n",
        "* `GET` — получение информации об объекте/объектах\n",
        "* `PUT` — изменение объекта\n",
        "* `DELETE` — удаление\n",
        "\n",
        "<table>\n",
        "  <tr>\n",
        "        <td>\n",
        "\n",
        "### Демонстрация работы «*Создание конечной точки*»\n",
        "\n",
        "<br>\n",
        "\n",
        "<br>\n",
        "\n",
        "Создадим контроллер для работы с клиентами:\n",
        "\n",
        "```java\n",
        "import com.example.demo.model.dto.CustomerDTO;\n",
        "import com.example.demo.model.entity.Customer;\n",
        "import com.example.demo.model.view.CustomersGetRequest;\n",
        "import com.example.demo.model.view.CustomersGetResponse;\n",
        "import com.example.demo.service.CustomerService;\n",
        "import org.springframework.web.bind.annotation.GetMapping;\n",
        "import org.springframework.web.bind.annotation.RequestMapping;\n",
        "import org.springframework.web.bind.annotation.RestController;\n",
        "\n",
        "import java.util.List;\n",
        "\n",
        "@RestController\n",
        "@RequestMapping(path = \"api/customers\")\n",
        "public class CustomerController {\n",
        "\n",
        "    private final CustomerService customerService;\n",
        "\n",
        "    public CustomerController(CustomerService customerService) {\n",
        "        this.customerService = customerService;\n",
        "    }\n",
        "\n",
        "    @GetMapping\n",
        "    public CustomersGetResponse getCustomers(CustomersGetRequest request){\n",
        "        List<Customer> customers = customerService.getCustomers();\n",
        "        List<CustomerDTO> customerDTOs = customers.stream()\n",
        "                .map(customer -> new CustomerDTO(customer.getId(), customer.getName()))\n",
        "                .toList();\n",
        "        return new CustomersGetResponse(customerDTOs);\n",
        "    }\n",
        "}\n",
        "```\n",
        "\n",
        "Заполним необходимые классы и сервисы заглушками, чтобы приложение <p>компилировалось и запускалось.\n",
        "    </td>\n",
        "  </tr>\n",
        "</table>\n",
        "\n",
        "* `@RestController` — состоит из двух аннотаций `@Controller`, `@ResponseBody`\n",
        "\n",
        "  * `@Controller`— указывает на то, что класс обрабатывает HTTP-запросы\n",
        "  * `@ResponseBody`— указывает, что результат, возвращаемый методом, должен стать телом ответа на запрос\n",
        "* `@RequestMapping` — указывает, какие HTTP-запросы будут обрабатывать методы нашего класса\n",
        "\n",
        "<table>\n",
        "  <tr>\n",
        "        <td>\n",
        "\n",
        "### Демонстрация работы «*Создание метода*»\n",
        "\n",
        "<br>\n",
        "\n",
        "<br>\n",
        "\n",
        "Метод получения списка клиентов уже есть.\n",
        "\n",
        "Добавим метод получения одного клиента по его идентифкатору:\n",
        "\n",
        "```java\n",
        "@GetMapping(\"{id}\")\n",
        "public CustomerDTO getCustomer(@PathVariable(\"id\") int id){\n",
        "    Customer customer = customerService.getCustomer(id);\n",
        "    return new CustomerDTO(customer.getId(), customer.getName());\n",
        "}\n",
        "```\n",
        "\n",
        "Вызовем http://localhost:8080/api/customers/1 для проверки.\n",
        "    </td>\n",
        "  </tr>\n",
        "</table>\n",
        "\n",
        "* `@PostMapping` — обрабатывает HTTP POST\n",
        "* `@GetMapping` — обрабатывает HTTP GET\n",
        "* `@PutMapping` — обрабатывает HTTP PUT\n",
        "* `@DeleteMapping` — обрабатывает HTTP DELETE\n",
        "\n",
        "* `@PathVariable` — указывает, что значение переменной будет заполняться из параметров запроса"
      ],
      "metadata": {
        "id": "0Tuv1EHoV6Xm"
      }
    },
    {
      "cell_type": "markdown",
      "source": [
        "## Ваши вопросы"
      ],
      "metadata": {
        "id": "55PcW23639Kj"
      }
    },
    {
      "cell_type": "markdown",
      "source": [
        "## 3. Слой бизнес-логики\n"
      ],
      "metadata": {
        "id": "bjk0nmE29mJp"
      }
    },
    {
      "cell_type": "markdown",
      "source": [
        "\n",
        "Обычно контроллеры только вызывают методы из слоя бизнес-сервисов, которые и занимаются основной логикой.\n",
        "\n",
        "У нас логики никакой нет, нужно только уметь создавать и читать объекты — так называемый CRUD: create, read, update, delete.\n",
        "\n",
        "<table>\n",
        "  <tr>\n",
        "        <td>\n",
        "\n",
        "### Демонстрация работы «*Бизнес-логика*»\n",
        "\n",
        "<br>\n",
        "\n",
        "<br>\n",
        "\n",
        "Вся работа должна быть реализована в `CustomerService`.\n",
        "\n",
        "Давайте сделаем простую реализацию этого сервиса.\n",
        "    </td>\n",
        "  </tr>\n",
        "</table>\n",
        "\n",
        "\n",
        "Обратите внимание на именование пакетов. Обычно идёт следующиее разделение на пакеты:\n",
        "\n",
        "* `controller`\n",
        "* `service` — для хранения классов, отвечающих за бизнес-логику\n",
        "* `domain` или `model` — для хранения сущностей предметной области\n",
        "* `repositiry` или `dao` — для хранения классов, предназначенных для доступа к объектам в хранилище\n",
        "\n",
        "\n",
        "<table>\n",
        "  <tr>\n",
        "       <td style=\"max-width:150px;\">\n",
        "\n",
        "### Практика «*Добавление объектов*»\n",
        "\n",
        "<br>\n",
        "\n",
        "Реализуйте в контроллере и сервисе логику создания новых записей\n",
        "    </td>\n",
        "  </tr>\n",
        "</table>"
      ],
      "metadata": {
        "id": "34xCWzANV16V"
      }
    },
    {
      "cell_type": "markdown",
      "source": [
        "## Ваши вопросы"
      ],
      "metadata": {
        "id": "Fpk0B6js4Yfa"
      }
    },
    {
      "cell_type": "markdown",
      "source": [
        "## 4. Бины\n",
        "\n"
      ],
      "metadata": {
        "id": "F_09t4NTAYnJ"
      }
    },
    {
      "cell_type": "markdown",
      "source": [
        "\n",
        "Обратите особое внимание на аннотацию `@Service`. Она означает, что класс нужно добавить как бин в контексте Spring.\n",
        "\n",
        "Мы не создаём сами экземпляры классов и не присваиваем сами значения зависимостям. Вместо этого мы помещаем классы в контекст Spring и берём оттуда же.\n",
        "\n",
        "Наш основной класс помечен аннотацией `@SpringBootApplication`, которая фактически включает в себя 3 аннотации:\n",
        "\n",
        "* `@EnableAutoConfiguration` — включает автоматическую настройку Spring Boot, основываясь на зависимостях, которые были добавлены\n",
        "* `@ComponentScan`— включает сканирование классов в пакете, где расположен класс, и в подпакетах\n",
        "* `@SpringBootConfiguration` — включает регистрацию дополнительных бинов в контексте для дополнительных конфигурационных классов\n",
        "\n",
        "\n",
        "<table>\n",
        "  <tr>\n",
        "        <td>\n",
        "\n",
        "### Демонстрация работы «*Добавление бина*»\n",
        "\n",
        "<br>\n",
        "\n",
        "Добавим сервис для асинхронной обработки операций.\n",
        "\n",
        "<br>\n",
        "\n",
        "```java\n",
        "@Service\n",
        "public class AsyncInputOperationService {\n",
        "\n",
        "    private final Queue<Operation> operations = new LinkedList<>();\n",
        "\n",
        "    @Autowired\n",
        "    private StatementService statementService;\n",
        "\n",
        "    @PostConstruct\n",
        "    public void init() {\n",
        "        this.startProcessing();\n",
        "    }\n",
        "\n",
        "    public void startProcessing() {\n",
        "        Thread t = new Thread(this::processQueue);\n",
        "        t.start();\n",
        "    }\n",
        "\n",
        "    private void processQueue() {\n",
        "        while (true) {\n",
        "            Operation operation = operations.poll();\n",
        "            if (operation == null) {\n",
        "                try {\n",
        "                    System.out.println(\"No operations\");\n",
        "                    Thread.sleep(1000);\n",
        "                } catch (InterruptedException e) {\n",
        "                    System.out.println(e);\n",
        "                }\n",
        "            } else {\n",
        "                System.out.println(\"Processing operation \" + operation);\n",
        "                processOperation(operation);\n",
        "            }\n",
        "        }\n",
        "    }\n",
        "\n",
        "    private void processOperation(Operation operation) {\n",
        "        statementService.saveOperation(operation);\n",
        "    }\n",
        "\n",
        "    public boolean addOperation(Operation operation) {\n",
        "        System.out.println(\"Operation added for processing \" + operation);\n",
        "        return operations.offer(operation);\n",
        "    }\n",
        "}\n",
        "```\n",
        "\n",
        "Недостающие операции и классы сейчас реализуем в виде заглушек, чтобы <p>приложение компилировалось и запускалось.\n",
        "    </td>\n",
        "  </tr>\n",
        "</table>\n",
        "\n",
        "Аннотация `@Service` сама помечена как `@Component`. Используется для смыслового выделения сервисов.\n",
        "\n",
        "Аннотация `@RestController` помечена как `@Controller`, которая помечена как `@Component`.\n",
        "\n",
        "Аннотация `@Autowired` производит поиск подходящего бина и внедряет его\n"
      ],
      "metadata": {
        "id": "yoHDZYzCVx00"
      }
    },
    {
      "cell_type": "markdown",
      "source": [
        "## Ваши вопросы"
      ],
      "metadata": {
        "id": "9VN5kBBK5TOm"
      }
    },
    {
      "cell_type": "markdown",
      "source": [
        "## 5. Конфигурирование параметров приложения\n"
      ],
      "metadata": {
        "id": "OCZmX3MtO2-T"
      }
    },
    {
      "cell_type": "markdown",
      "source": [
        "\n",
        "<table>\n",
        "  <tr>\n",
        "        <td>\n",
        "\n",
        "### Демонстрация работы «*Конфигурация*»\n",
        "\n",
        "<br>\n",
        "\n",
        "Создадим класс:\n",
        "\n",
        "<br>\n",
        "\n",
        "```java\n",
        "@Getter\n",
        "@Setter\n",
        "@Component\n",
        "@ConfigurationProperties(prefix = \"operation.processing\")\n",
        "public class OperationProperties {\n",
        "    public int sleepMilliSeconds;\n",
        "}\n",
        "```\n",
        "\n",
        "Добавим в файл свойство `application.propreties`:\n",
        "\n",
        "```\n",
        "operation.processing.sleepMilliSeconds: 1000\n",
        "```\n",
        "\n",
        "Либо `application.yml`:\n",
        "\n",
        "```yml\n",
        "operation.processing:\n",
        "  sleepMilliSeconds: 1000\n",
        "```\n",
        "\n",
        "Там мы сможем задавать параметры работы приложения\n",
        "    </td>\n",
        "  </tr>\n",
        "</table>\n",
        "\n",
        "<table>\n",
        "  <tr>\n",
        "    <td style=\"max-width:150px;\">\n",
        "\n",
        "### Практика «*Конфигурирование*»\n",
        "\n",
        "<br>\n",
        "\n",
        "<br>\n",
        "\n",
        "Используйте `OperationProperties` в `AsyncInputOperationService` для назначения <p>таймаута обработки операций\n",
        "    </td>\n",
        "  </tr>\n",
        "</table>"
      ],
      "metadata": {
        "id": "MAQflengVumM"
      }
    },
    {
      "cell_type": "markdown",
      "source": [
        "## Ваши вопросы"
      ],
      "metadata": {
        "id": "KWwHqhz05qmW"
      }
    },
    {
      "cell_type": "markdown",
      "source": [
        "# Заключение"
      ],
      "metadata": {
        "id": "WtsGQEoXWBjD"
      }
    },
    {
      "cell_type": "markdown",
      "source": [
        "## Итоги занятия"
      ],
      "metadata": {
        "id": "0xgwic7u5336"
      }
    },
    {
      "cell_type": "markdown",
      "source": [
        "1. Научились создавать приложение с использованием Spring Boot\n",
        "\n",
        "1. Научились создавать конечные точки и их обработчики\n",
        "\n",
        "1. Обсудили слои в приложениях: для чего они используются и какие бывают\n",
        "\n",
        "1. Узнали, что такое бины и как их задавать"
      ],
      "metadata": {
        "id": "ndiaaZg058gC"
      }
    },
    {
      "cell_type": "markdown",
      "source": [
        "<table>\n",
        "  <tr>\n",
        "        <td>\n",
        "\n",
        "## Домашнее задание    \n",
        "\n",
        "**Цель задания:** применить Spring Boot.\n",
        "\n",
        "<br>\n",
        "\n",
        "1. Использовать в проекте Spring Boot\n",
        "\n",
        "2. Написать Rest API для управления клиентами и операциями\n",
        "    </td>\n",
        "  </tr>\n",
        "</table>\n"
      ],
      "metadata": {
        "id": "vrHoxpe44xLV"
      }
    },
    {
      "cell_type": "markdown",
      "source": [
        "## Анонс следующего занятия"
      ],
      "metadata": {
        "id": "yA2hcIlE6d8m"
      }
    },
    {
      "cell_type": "markdown",
      "source": [
        "**Итоговый вебинар**"
      ],
      "metadata": {
        "id": "rb6kWZFS6i0V"
      }
    },
    {
      "cell_type": "markdown",
      "source": [
        "## Ваши вопросы"
      ],
      "metadata": {
        "id": "QCf8omGW5tBB"
      }
    }
  ]
}