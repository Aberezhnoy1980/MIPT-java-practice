{
 "nbformat": 4,
 "nbformat_minor": 0,
 "metadata": {
  "colab": {
   "provenance": []
  },
  "kernelspec": {
   "name": "python3",
   "display_name": "Python 3"
  },
  "language_info": {
   "name": "python"
  }
 },
 "cells": [
  {
   "cell_type": "markdown",
   "source": [
    "# Вступление\n"
   ],
   "metadata": {
    "id": "85hKN72lIQIr"
   }
  },
  {
   "cell_type": "markdown",
   "source": [
    "## Проверка связи\n",
    "\n",
    "<table>\n",
    "    <tr>\n",
    "    <td>\n",
    "\n",
    "### Если у вас нет звука:\n",
    "\n",
    "* убедитесь, что на устройстве и колонках включён звук\n",
    "\n",
    "* обновите страницу или закройте её и заново <p>подключитесь к вебинару\n",
    "\n",
    "* откройте вебинар в другом браузере\n",
    "\n",
    "* перезагрузите устройство и заново попытайтесь зайти\n",
    "    </td>\n",
    "    <td width='60px'>\n",
    "    </td>\n",
    "    <td>\n",
    "\n",
    "### Поставьте в чат\n",
    "\n",
    "\\+ если меня видно и слышно\n",
    "\n",
    "– если нет\n",
    "    </td>\n",
    "  </tr>\n",
    "</table>\n",
    "\n",
    "<br><br>"
   ],
   "metadata": {
    "id": "bcVdQJumO8ns"
   }
  },
  {
   "cell_type": "markdown",
   "source": [
    "## О спикере\n",
    "\n",
    "**Иван Ткаченко**\n",
    "- Тимлид в ООО «ТЕХНОКОМ», Тюмень\n",
    "- Программист на Java с 7-летним опытом\n",
    "- Преподаватель ТюмГУ, доцент кафедры программной и системной инженерии"
   ],
   "metadata": {
    "id": "fz3y6vq8xXjW"
   }
  },
  {
   "cell_type": "markdown",
   "source": [
    "## Правила участия\n",
    "\n",
    "1. Продолжительность вебинара — 80 минут. Через 40 минут перерыв — 5 минут\n",
    "2. Запустите IDE для выполнения практических заданий вебинара. Во время демонстрации работы повторяйте за спикером: это помогает лучше понять материал\n",
    "3. Вопросы и уточнения:\n",
    "  - приготовьте блокнот и ручку или создайте копию этого блокнота, чтобы фиксировать вопросы и важную информацию во время занятия\n",
    "  - вы можете писать вопросы в чате во время вебинара или озвучивать в блоке «Ваши вопросы»\n",
    "4. Запись вебинара будет доступна в личном кабинете\n",
    "5. Обсуждение можно продолжить в чате"
   ],
   "metadata": {
    "id": "s1FGCFO3xb0R"
   }
  },
  {
   "cell_type": "markdown",
   "source": [
    "## Вспомним прошлое занятие"
   ],
   "metadata": {
    "id": "DoCymGgexgGL"
   }
  },
  {
   "cell_type": "markdown",
   "source": [
    "1. Узнали, какие есть виды исключений, чем они отличаются и когда их следует применять\n",
    "\n",
    "1. Научились перехватывать исключения, обсудили назначение блока `finally`\n",
    "\n",
    "1. Научились применять оператор `try-with-resources` и разобрались, для чего он используется\n",
    "\n",
    "1. Научились бросать исключения"
   ],
   "metadata": {
    "id": "w2Z8mLejxhaB"
   }
  },
  {
   "cell_type": "markdown",
   "source": [
    "---\n",
    "\n",
    "## Цели занятия\n",
    "\n",
    "1. Познакомиться с классами для работы с файловой системой\n",
    "\n",
    "1. Разобрать особенности работы в разных операционных <p>системах\n",
    "\n",
    "1. Научиться создавать, удалять, открывать и записывать каталоги <p>и файлы\n",
    "\n",
    "1. Узнать, что такое сериализация и для чего она применяется\n",
    "\n"
   ],
   "metadata": {
    "id": "WdHXtIQLIU3a"
   }
  },
  {
   "cell_type": "markdown",
   "source": [
    "## План занятия\n",
    "\n",
    "\n",
    "1. Класс `java.nio.file.Path`\n",
    "\n",
    "1. Класс `java.nio.file.Files`\n",
    "\n",
    "1. Чтение, запись и создание файлов\n",
    "\n",
    "1. `java.io.FileInputStream` и `java.io.FileOutputStream`\n",
    "\n",
    "1. Сериализация\n"
   ],
   "metadata": {
    "id": "u1CRRuOPQVPU"
   }
  },
  {
   "cell_type": "markdown",
   "source": [
    "## Ваши вопросы"
   ],
   "metadata": {
    "id": "Ara4uBQLy9IM"
   }
  },
  {
   "cell_type": "markdown",
   "source": [
    "# Ввод-вывод. Доступ к файловой системе"
   ],
   "metadata": {
    "id": "_I443Q0zc0m1"
   }
  },
  {
   "cell_type": "markdown",
   "source": [
    "## 1. Класс `java.nio.file.Path`\n",
    "\n",
    "\n"
   ],
   "metadata": {
    "id": "eYsqjjR8i9gl"
   }
  },
  {
   "cell_type": "markdown",
   "source": [
    "`Path`  представляет собой путь в файловой системе. Он содержит имя файла и список каталогов, определяющих путь к файлу.\n",
    "\n",
    "Экземпляры `Path` отражают путь в конкретной платформе: `/home/jho/foo` для Linux или `C:\\home\\jho\\foo` для Windows.\n",
    "\n",
    "```java\n",
    "Path p1 = Paths.get(\"/tmp/foo\");\n",
    "```\n",
    "\n",
    "Можно рассматривать `Path` как класс, сохраняющий имена каталогов в пути и имя файла в виде последовательности:\n",
    "\n",
    "```java\n",
    "String element0 = path.getName(0)\n",
    "// Для пути /homme/jho/foo (Linux) вернётся home\n",
    "// Для пути C:\\home\\joe\\foo (Windows) вернётся home\n",
    "```\n",
    "\n",
    "Некоторые полезные методы:\n",
    "\n",
    "- `getNameCount()` — количество элементов в пути\n",
    "\n",
    "- `getParent()` — получить путь родительской директории\n",
    "\n",
    "- `getRoot()` — корень пути\n"
   ],
   "metadata": {
    "id": "bR-krq6iO5er"
   }
  },
  {
   "cell_type": "markdown",
   "source": [
    "## Ваши вопросы"
   ],
   "metadata": {
    "id": "vD4GeHkKzTqV"
   }
  },
  {
   "cell_type": "markdown",
   "source": [
    "## 2. Класс `java.nio.file.Files`\n",
    "\n"
   ],
   "metadata": {
    "id": "wS4v7MRNkey-"
   }
  },
  {
   "cell_type": "markdown",
   "source": [
    "### Проверка сущестования файла или каталога\n",
    "\n",
    "<table>\n",
    "  <tr>\n",
    "        <td>\n",
    "\n",
    "### Демонстрация работы «*Проверка сущестования файла или каталога*»\n",
    "\n",
    "<br>\n",
    "\n",
    "Создадим папку и назовём её «Вебинар 8». Создадим файл 1.txt.\n",
    "\n",
    "<br>\n",
    "\n",
    "Выполним код:\n",
    "\n",
    "```java\n",
    "public static void main(String[] args) {\n",
    "    Path vebinar8 = Paths.get(\"D:\\\\Вебинар 8\");\n",
    "    exist(vebinar8);\n",
    "\n",
    "    Path txt1 = Paths.get(\"D:\\\\Вебинар 8\\\\1.txt\");\n",
    "    exist(txt1);\n",
    "\n",
    "    Path txt2 = Paths.get(\"D:\\\\Вебинар 8\\\\2.txt\");\n",
    "    exist(txt2);\n",
    "}\n",
    "\n",
    "private static void exist(Path path) {\n",
    "    if (Files.exists(path))\n",
    "        System.out.println(\"\\'%s\\' сущетсвует\".formatted(path));\n",
    "    else\n",
    "        System.out.println(\"\\'%s\\' не сущетсвует\".formatted(path));\n",
    "}\n",
    "```\n",
    "\n",
    "Не забудьте заменить директории. Данные — в примере.\n",
    "    </td>\n",
    "  </tr>\n",
    "</table>"
   ],
   "metadata": {
    "id": "5t_Y3RzBojHl"
   }
  },
  {
   "cell_type": "markdown",
   "source": [
    "### Удаление файла или каталога\n",
    "\n",
    "<table>\n",
    "  <tr>\n",
    "        <td>\n",
    "\n",
    "### Демонстрация работы «*Удаление файла или каталога*»\n",
    "\n",
    "<br>\n",
    "\n",
    "Выполним код:\n",
    "\n",
    "```java\n",
    "public static void main(String[] args) {\n",
    "    Path vebinar8 = Paths.get(\"D:\\\\Вебинар 8\");\n",
    "    Path txt2 = Paths.get(\"D:\\\\Вебинар 8\\\\2.txt\");\n",
    "\n",
    "    delete(txt2);\n",
    "    delete(vebinar8);\n",
    "}\n",
    "\n",
    "private static void delete(Path path) {\n",
    "    try {\n",
    "        Files.delete(path);\n",
    "    } catch (NoSuchFileException x) {\n",
    "        System.err.format(\"%s: не найден\" + \" файл или папка%n\", path);\n",
    "    } catch (DirectoryNotEmptyException x) {\n",
    "        System.err.format(\"%s не пустая директория%n\", path);\n",
    "    } catch (IOException x) {\n",
    "        // File permission problems are caught here.\n",
    "        System.err.println(x);\n",
    "    }\n",
    "}\n",
    "```\n",
    "\n",
    "Не забудьте заменить директории. Данные — в примере.\n",
    "\n",
    "<br>\n",
    "\n",
    "Исправим код, чтобы он заработал.\n",
    "    </td>\n",
    "  </tr>\n",
    "</table>"
   ],
   "metadata": {
    "id": "6rVr7RVHlB11"
   }
  },
  {
   "cell_type": "markdown",
   "source": [
    "### Копирование файла или каталога\n",
    "\n",
    "<table>\n",
    "  <tr>\n",
    "        <td>\n",
    "\n",
    "### Демонстрация работы «*Копирование файла или каталога*»\n",
    "\n",
    "<br>\n",
    "\n",
    "Выполним код:\n",
    "\n",
    "```java\n",
    "public static void main(String[] args) {\n",
    "    Path vebinar8 = Paths.get(\"D:\\\\Вебинар 8\");\n",
    "    Path vebinar8copy = Paths.get(\"D:\\\\Копия Вебинар 8\");\n",
    "\n",
    "    try {\n",
    "        Files.copy(vebinar8, vebinar8copy, StandardCopyOption.REPLACE_EXISTING);\n",
    "    } catch (IOException e) {\n",
    "        throw new RuntimeException(e);\n",
    "    }\n",
    "}\n",
    "```\n",
    "\n",
    "Не забудьте заменить директории. Данные в примере.\n",
    "\n",
    "<br>\n",
    "\n",
    "Имейте в виду, что файлы внутри каталога не копируются этим методом.\n",
    "    </td>\n",
    "  </tr>\n",
    "</table>\n",
    "\n",
    "Метод `copy` принимает константы `CopyOption`:\n",
    "\n",
    "- `StandardCopyOption.REPLACE_EXISTING` заменяет существующие файлы\n",
    "\n",
    "- `StandardCopyOption.COPY_ATTRIBUTES` копирует атрибуты файла\n",
    "\n",
    "- `LinkOption.NOFOLLOW_LINKS` не даёт переходить по символическим ссылкам"
   ],
   "metadata": {
    "id": "oZJgQ6OFlOlW"
   }
  },
  {
   "cell_type": "markdown",
   "source": [
    "### Управление метаданными\n",
    "\n",
    "Метаданные файлов: размер, дата создания, дата последнего изменения, владелец, права доступа и прочее.\n",
    "\n",
    "Метаданные файлов и каталогов часто называют атрибутами.\n",
    "\n",
    "Методы для работы с метаданными:\n",
    "\n",
    "- `public static long size(Path path) throws IOException` — возвращает размер файла в байтах\n",
    "\n",
    "- `public static boolean isDirectory(Path path, LinkOption... options)` — проверяет, что `path` указывает на каталог\n",
    "\n",
    "- `public static boolean isRegularFile(Path path, LinkOption... options)` — возвращает true, если path  указывает на обычный файл\n",
    "\n",
    "- `public static boolean isHidden(Path path) throws IOException` — возвращает `true`, если файл является скрытым. Для Linux файл является скрытым, если его имя начинается с точки. Для Windows — если установлен соответствующий атрибут\n",
    "\n",
    "- `public static FileTime getLastModifiedTime(Path path, LinkOption... options) throws IOException` — возвращает `FileTime` с датой последнего изменения файла\n",
    "\n",
    "- `public static Path setLastModifiedTime(Path path, FileTime time) throws IOException` — устанавливает дату последнего изменения файла\n",
    "\n",
    "- `public static UserPrincipal getOwner(Path path, LinkOption... options) throws IOException` — возвращает владельца файла и др.\n",
    "\n",
    "<table>\n",
    "  <tr>\n",
    "        <td>\n",
    "\n",
    "### Демонстрация работы «*Просмотр метаданных*»\n",
    "\n",
    "<br>\n",
    "\n",
    "Выполним код:\n",
    "\n",
    "```java\n",
    "public static void main(String[] args) {\n",
    "    Path vebinar8 = Paths.get(\"D:\\\\Вебинар 8\");\n",
    "    Path txt1 = Paths.get(\"D:\\\\Вебинар 8\\\\1.txt\");\n",
    "\n",
    "    try {\n",
    "        System.out.println(Files.size(txt1));\n",
    "        System.out.println(Files.getOwner(txt1));\n",
    "    } catch (IOException e) {\n",
    "        throw new RuntimeException(e);\n",
    "    }\n",
    "}\n",
    "```\n",
    "\n",
    "Не забудьте заменить директории. Данные — в примере.\n",
    "    </td>\n",
    "  </tr>\n",
    "</table>"
   ],
   "metadata": {
    "id": "W3k-VV-EpqqP"
   }
  },
  {
   "cell_type": "markdown",
   "source": [
    "## Ваши вопросы"
   ],
   "metadata": {
    "id": "IWjNu9MI0Fqi"
   }
  },
  {
   "cell_type": "markdown",
   "source": [
    "## 3. Чтение, запись и создание файлов\n",
    "\n"
   ],
   "metadata": {
    "id": "8uIUDg_ptB2O"
   }
  },
  {
   "cell_type": "markdown",
   "source": [
    "### Чтение текстового файла\n",
    "\n",
    "<table>\n",
    "  <tr>\n",
    "        <td>\n",
    "\n",
    "### Демонстрация работы «*Чтение текстового файла*»\n",
    "\n",
    "<br>\n",
    "\n",
    "Занесём в файл какие-нибудь данные.\n",
    "\n",
    "<br>\n",
    "\n",
    "Выведем на экран содержимое файла:\n",
    "\n",
    "```java\n",
    "Path txt1 = Paths.get(\"D:\\\\Вебинар 8\\\\1.txt\");\n",
    "\n",
    "try {\n",
    "    List<String> lines = Files.readAllLines(txt1);\n",
    "    for (String line : lines)\n",
    "        System.out.println(line);\n",
    "} catch (IOException e) {\n",
    "    throw new RuntimeException(e);\n",
    "}\n",
    "```\n",
    "\n",
    "Не забудьте заменить директории. Данные — в примере.\n",
    "    </td>\n",
    "  </tr>\n",
    "</table>"
   ],
   "metadata": {
    "id": "IuTNROm8tlsO"
   }
  },
  {
   "cell_type": "markdown",
   "source": [
    "### Запись текстового файла\n",
    "\n",
    "<table>\n",
    "  <tr>\n",
    "        <td>\n",
    "\n",
    "### Демонстрация работы «*Запись текстового файла*»\n",
    "\n",
    "<br>\n",
    "\n",
    "Занесём в файл какие-нибудь данные.\n",
    "\n",
    "<br>\n",
    "\n",
    "Выведем на экран содержимое файла:\n",
    "\n",
    "```java\n",
    "Path txt1 = Paths.get(\"D:\\\\Вебинар 8\\\\1.txt\");\n",
    "\n",
    "try {\n",
    "    List<String> lines = Files.readAllLines(txt1);\n",
    "    for (String line : lines)\n",
    "        System.out.println(line);\n",
    "} catch (IOException e) {\n",
    "    throw new RuntimeException(e);\n",
    "}\n",
    "```\n",
    "\n",
    "Обратите внимание, данные перезаписались.\n",
    "\n",
    "<br>\n",
    "\n",
    "Перепишем код, чтобы данные добавлялись в конец.\n",
    "    </td>\n",
    "  </tr>\n",
    "</table>\n",
    "\n",
    "\n",
    "- `StandardOpenOption.APPEND` — если файл открыт для записи, то байты будут добавляться в конец файла, а не в начало\n",
    "\n",
    "- `StandardOpenOption.CREATE` — создаёт новый файл, если его нет\n",
    "\n",
    "- `StandardOpenOption.CREATE_NEW` — создаёт новый файл. Если файл уже существует, то происходит ошибка\n",
    "\n",
    "- `StandardOpenOption.DELETE_ON_CLOSE` — удаляет файл при закрытии\n",
    "\n",
    "- `StandardOpenOption.TRUNCATE_EXISTING` — если файл уже существует и открывается для записи, то его длина устанавливается в 0\n",
    "\n"
   ],
   "metadata": {
    "id": "9FBlhwTtt0S3"
   }
  },
  {
   "cell_type": "markdown",
   "source": [
    "### Создание файлов\n",
    "\n",
    "```java\n",
    "public static Path createFile(Path path,\n",
    "                              FileAttribute<?>... attrs)\n",
    "                       throws IOException\n",
    "```\n",
    "\n",
    "Создаёт новый и пустой файл. Выдаёт исключение, если файл уже существует.\n",
    "\n",
    "\n",
    "```java\n",
    "public static Path createTempFile(Path dir,\n",
    "                                  String prefix,\n",
    "                                  String suffix,\n",
    "                                  FileAttribute<?>... attrs)\n",
    "                           throws IOException\n",
    "```\n",
    "\n",
    "Создаёт временный файл в указанном каталоге.\n",
    "\n",
    "\n",
    "```java\n",
    "public static Path createTempFile(String prefix,\n",
    "                                  String suffix,\n",
    "                                  FileAttribute<?>... attrs)\n",
    "                           throws IOException\n",
    "```\n",
    "\n",
    "Создаёт временный файл в специальном каталоге для временных файлов.\n",
    "\n",
    "<table>\n",
    "  <tr>\n",
    "        <td>\n",
    "\n",
    "### Демонстрация работы «*Создание файла*»\n",
    "\n",
    "<br>\n",
    "\n",
    "Выполним код:\n",
    "\n",
    "```java\n",
    "Path txt1 = Paths.get(\"D:\\\\Вебинар 8\\\\1.txt\");\n",
    "\n",
    "try {\n",
    "    Files.createFile(txt1);\n",
    "} catch (IOException e) {\n",
    "    throw new RuntimeException(e);\n",
    "}\n",
    "```\n",
    "\n",
    "Не забудьте заменить директории. Данные — в примере.\n",
    "    </td>\n",
    "  </tr>\n",
    "</table>"
   ],
   "metadata": {
    "id": "_PX4v9hOuPx2"
   }
  },
  {
   "cell_type": "markdown",
   "source": [
    "### Просмотр содержимого каталога\n",
    "\n",
    "<table>\n",
    "  <tr>\n",
    "        <td>\n",
    "\n",
    "### Демонстрация работы «*Просмотр содержимого каталога*»\n",
    "\n",
    "<br>\n",
    "\n",
    "Выполним код:\n",
    "\n",
    "```java\n",
    "Path vebinar8 = Paths.get(\"D:\\\\Вебинар 8\");\n",
    "\n",
    "try (DirectoryStream<Path> stream = Files.newDirectoryStream(vebinar8)) {\n",
    "    for (Path file: stream) {\n",
    "        System.out.println(file.getFileName());\n",
    "    }\n",
    "} catch (IOException e) {\n",
    "    throw new RuntimeException(e);\n",
    "}\n",
    "```\n",
    "\n",
    "Не забудьте заменить директории. Данные — в примере.\n",
    "    </td>\n",
    "  </tr>\n",
    "</table>"
   ],
   "metadata": {
    "id": "SSTthgkoDDEy"
   }
  },
  {
   "cell_type": "markdown",
   "source": [
    "<table>\n",
    "  <tr>\n",
    "        <td style=\"max-width:150px;\">\n",
    "\n",
    "### Практика «*Размер папки*»\n",
    "\n",
    "<br>\n",
    "\n",
    "Реализуйте метод calculateFolderSize, который принимает абсолютный путь к папке <p>и возвращает её размер.\n",
    "\n",
    "Если путь неверного формата или его не существует, то метод должен бросать <p>IllegalArgumentException. Метод должен обойти не только файлы, но и папки <p>с файлами.\n",
    "    </td>\n",
    "  </tr>\n",
    "</table>"
   ],
   "metadata": {
    "id": "5omR87hBDo7D"
   }
  },
  {
   "cell_type": "markdown",
   "source": [
    "## Ваши вопросы"
   ],
   "metadata": {
    "id": "10_dAlDN0sSr"
   }
  },
  {
   "cell_type": "markdown",
   "source": [
    "## 4. java.io.FileInputStream и java.io.FileOutputStream\n",
    "\n",
    "\n"
   ],
   "metadata": {
    "id": "j9Albx4INttE"
   }
  },
  {
   "cell_type": "markdown",
   "source": [
    "Предназначены для чтения и записи данных в файл и из файла.\n",
    "\n",
    "<table>\n",
    "  <tr>\n",
    "        <td>\n",
    "\n",
    "### Демонстрация работы «*FileInputStream и FileOutputStream*»\n",
    "\n",
    "<br>\n",
    "\n",
    "Выполним код:\n",
    "\n",
    "```java\n",
    "try (InputStream is = new FileInputStream(\"D:\\\\Вебинар 8\\\\1.txt\");\n",
    "      OutputStream os = new FileOutputStream(\"D:\\\\Вебинар 8\\\\2.txt\")) {\n",
    "    int bytesReaded;\n",
    "    final int BUFFER_SIZE = 10_000;\n",
    "    byte[] buff = new byte[BUFFER_SIZE];\n",
    "    while ((bytesReaded = is.read(buff)) != -1) {\n",
    "        os.write(buff, 0, bytesReaded);\n",
    "    }\n",
    "} catch (IOException ioex) {\n",
    "    ioex.printStackTrace();\n",
    "}\n",
    "```\n",
    "\n",
    "Аналогичный:\n",
    "\n",
    "```java\n",
    "Path txt1 = Paths.get(\"D:\\\\Вебинар 8\\\\1.txt\");\n",
    "Path txt2 = Paths.get(\"D:\\\\Вебинар 8\\\\2.txt\");\n",
    "\n",
    "try (InputStream is = Files.newInputStream(txt1);\n",
    "      OutputStream os = Files.newOutputStream(txt2)) {\n",
    "    int bytesReaded;\n",
    "    final int BUFFER_SIZE = 10_000;\n",
    "    byte[] buff = new byte[BUFFER_SIZE];\n",
    "    while ((bytesReaded = is.read(buff)) != -1) {\n",
    "        os.write(buff, 0, bytesReaded);\n",
    "    }\n",
    "} catch (IOException ioex) {\n",
    "    ioex.printStackTrace();\n",
    "}\n",
    "```\n",
    "\n",
    "Не забудьте заменить директории. Данные — в примере.\n",
    "    </td>\n",
    "  </tr>\n",
    "</table>\n"
   ],
   "metadata": {
    "id": "n3g-NxyyOb7s"
   }
  },
  {
   "cell_type": "markdown",
   "source": [
    "## Ваши вопросы"
   ],
   "metadata": {
    "id": "OhyT41wD05CO"
   }
  },
  {
   "cell_type": "markdown",
   "source": [
    "## 5. Сериализация\n",
    "\n"
   ],
   "metadata": {
    "id": "ez7NfhT0NGBX"
   }
  },
  {
   "cell_type": "markdown",
   "source": [
    "Класс `ObjectInputStream` реализует интерфейс `java.io.ObjectInput`, а класс `ObjectOutputStream` — интерфейс `java.io.ObjectOutput`, в котором описаны основные методы для чтения и записи объектов.\n",
    "\n",
    "Чтение объекта из ObjectInputStream  осуществляется с помощью метода:\n",
    "\n",
    "```java\n",
    "public final Object readObject()\n",
    "                        throws IOException, ClassNotFoundException\n",
    "```\n",
    "\n",
    "Запись объекта в ObjectOutputStream  производится с помощью метода:\n",
    "\n",
    "```java\n",
    "public final void writeObject(Object obj)\n",
    "                       throws IOException\n",
    "```\n",
    "\n",
    "Эти методы считывают и записывают в поток не только сам передаваемый объект, но и все объекты, на которые он ссылается и которые необходимы, чтобы восстановить исходный объект при чтении. Если какой-нибудь объект записывается в поток два раза, то в действительности он будет записан туда только один раз, но будет две ссылки на него.\n",
    "\n",
    "Только классы, реализующие интерфейсы `java.io.Serializable`  или `java.io.Externalizable`, могут быть считаны из потока и записаны в поток.\n",
    "\n",
    "Метод `readObject` возвращает тип `Object`, который должен быть приведён к ожидаемому типу с помощью операции приведения типов.\n",
    "\n",
    "Запись объекта называется **сериализацией**.\n",
    "\n",
    "Чтение объекта называется **десериализацией**.\n",
    "\n",
    "<table>\n",
    "  <tr>\n",
    "       <td style=\"max-width:150px;\">\n",
    "\n",
    "### Практика «*Cериализация/десериализация*»\n",
    "\n",
    "<br>\n",
    "\n",
    "Создайте какой-нибудь класс. Используйте поля разных типов. <p>Сделайте класс сериализуемым. Постарайтесь записать его в <p>файл и считать обратно.\n",
    "    </td>\n",
    "  </tr>\n",
    "</table>"
   ],
   "metadata": {
    "id": "5sp4pg48OYnE"
   }
  },
  {
   "cell_type": "markdown",
   "source": [
    "## Ваши вопросы"
   ],
   "metadata": {
    "id": "tesIP9TT1pqa"
   }
  },
  {
   "cell_type": "markdown",
   "source": [
    "# Заключение"
   ],
   "metadata": {
    "id": "1PUG6eHrdCcn"
   }
  },
  {
   "cell_type": "markdown",
   "source": [
    "## Итоги занятия"
   ],
   "metadata": {
    "id": "Mn7XYY0J27gZ"
   }
  },
  {
   "cell_type": "markdown",
   "source": [
    "1. Познакомились с классами для работы с файловой системой\n",
    "\n",
    "1. Разобрали особенности работы в различных операционных <p>системах\n",
    "\n",
    "1. Научились создавать, удалять, открывать и записывать каталоги <p>и файлы\n",
    "\n",
    "1. Узнали, что такое сериализация и для чего она применяется"
   ],
   "metadata": {
    "id": "FuO2OvTu3BVB"
   }
  },
  {
   "cell_type": "markdown",
   "source": [
    "\n",
    "<table>\n",
    "  <tr>\n",
    "        <td>\n",
    "\n",
    "## Домашнее задание    \n",
    "\n",
    "**Цель задания:** научиться использовать файловую систему для хранения данных.\n",
    "\n",
    "<br>\n",
    "\n",
    "* Допишите программу, чтобы она могла сериализовать <p>и десериализовывать историю операций\n",
    "    </td>\n",
    "  </tr>\n",
    "</table>"
   ],
   "metadata": {
    "id": "UQBUAs-NQomz"
   }
  },
  {
   "cell_type": "markdown",
   "source": [
    "## Анонс следующего занятия"
   ],
   "metadata": {
    "id": "2BhVklA83Pr4"
   }
  },
  {
   "cell_type": "markdown",
   "source": [
    "**Вебинар по теме «Структуры данных. List, Generics»**"
   ],
   "metadata": {
    "id": "m0caGCYL3Ts6"
   }
  },
  {
   "cell_type": "markdown",
   "source": [
    "## Ваши вопросы"
   ],
   "metadata": {
    "id": "eSKrtJpy1ukH"
   }
  }
 ]
}
